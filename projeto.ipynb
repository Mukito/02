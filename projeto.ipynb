{
 "cells": [
  {
   "cell_type": "markdown",
   "metadata": {},
   "source": [
    "## Projeto em PYTHON para treinamento de Django\n",
    "- se for o caso fazer a instalação do PYTHON\n",
    "    * `pip install python`\n",
    "- no terminal faz a instalação da maquina virtual venv\n",
    "    * `python.ex -m venv (nome da maquina)`\n",
    "- faz a instalação do DJANGO\n",
    "    * `pip install django`\n",
    "\n"
   ]
  },
  {
   "cell_type": "markdown",
   "metadata": {},
   "source": [
    "# Comando\n",
    "- `python3 --version` - para saber a versão do python usado\n",
    "- `virtualenv --version` - para saber a versão da maquina virtual usada\n",
    "- `Ctrl` + `Shift` + `P` - abre um terminal para buscas <br>\n",
    "- `python: selected interpreter` - vc ve onde esta seu python ou escolhe qual usar se tiver + de um instalado (Inportante usar o da `venv`)"
   ]
  },
  {
   "cell_type": "markdown",
   "metadata": {},
   "source": [
    "# Isolando toda as dependencias\n",
    "- para visualizar as dependencias iremos utilizar o comando <br>\n",
    "    *`pip freeze` - mostra as dependencias <br>\n",
    "    *`pip freeze > requirements.txt` - pega as dependencias e cria um arquivo `requirements.txt` ou qual quer outro nome da sua escolha"
   ]
  },
  {
   "cell_type": "markdown",
   "metadata": {},
   "source": [
    "### Mas um comando interesando no Django é\n",
    "- `django-admin help` - onde mostra todos os comandos do Django <br>\n"
   ]
  },
  {
   "cell_type": "markdown",
   "metadata": {},
   "source": [
    "# Cria a pasta de configuração \n",
    "- Para a criação da pasta de configuração do projeto <br>\n",
    "    *`django-admin startproject (nome da pasta) .` <br> \n",
    "    no caso fica + insteressando um nomo como `config`, `setup` ou `principal` - pois a pasta guarda os comandos de configuração o `.` para nao criar subpastas<br> \n",
    "    "
   ]
  },
  {
   "cell_type": "markdown",
   "metadata": {},
   "source": [
    "# Rodando o servidor \n",
    "\n",
    "`python manage.py runserver`"
   ]
  },
  {
   "cell_type": "markdown",
   "metadata": {},
   "source": [
    "# SECRET_KEY \n",
    "- Cria um arquivo com o nome `.env` - para jogar o `SECRET_KEY` que esta localizado no arquivo `settings.py` da pasta de configuração \n",
    "- no arquivo `setting.py` vc importa `os` <br>\n",
    "- no terminal da o comando `dotenv` e faz a importação `from dotenv import load_dotenv` no arquivo `settings.py`\n",
    "- no local onde tem o `SECRET_KEY` vc passa a variavel criado no `.env` criada com a `SECRET_KEY`\n",
    "    * `SECRET_KEY = str(os.getenv('SECRET_KEY'))`   "
   ]
  },
  {
   "cell_type": "markdown",
   "metadata": {},
   "source": [
    "### Gitiginore\n",
    "- no site `gitignore.io` passa as dependencias instalada no projeto \n",
    "    * esse site serve para criar todo comando para o arquivo `.gitignore` "
   ]
  },
  {
   "cell_type": "markdown",
   "metadata": {},
   "source": [
    "# GIT\n",
    "- para iniciar o git no terminal<br>\n",
    "    *`git init`<br>\n",
    "    *`git add .`<br> - mensagem `warning: in the working copy of 'projeto.ipynb', LF will be replaced by CRLF the next time Git touches it`<br>\n",
    "    *`git remote add origin https://github.com/Mukito/02.git` - copia o endereco no repositorio criado no github <br>\n",
    "    *`git push origin master`<br>\n"
   ]
  },
  {
   "cell_type": "markdown",
   "metadata": {},
   "source": [
    "# ======================================================"
   ]
  },
  {
   "cell_type": "markdown",
   "metadata": {},
   "source": [
    "# criação app \n",
    "- `python manage.py startapp (nome do app)` - parte do app criado na pasta (foi criado o nome galeria)"
   ]
  },
  {
   "cell_type": "markdown",
   "metadata": {},
   "source": [
    "- o arquivo responsavel pela visualização é o `views.py` localizado na pasta criada (galeria)<br>\n",
    "- dentro do arquivo importa o http `from http from Httpresponse`<br>\n",
    "    * def index(request):<br>\n",
    "         return Httpresponse('`<h1>Olá mundo</h1>`') - dentro do `Httpresponse` vc passa o arquivo ou a msg para ser lido<br>\n",
    "\n",
    "- dentro do arquivo `urls.py` vc importa `from galeria.views import index` (galeria - pasta.arquivo - views import o index criado)<br>\n",
    "    * dentro do `urlpatterns` - cria um `path('', index),` - quando acessar o endereco do server vai aparecer o `index`"
   ]
  },
  {
   "cell_type": "markdown",
   "metadata": {},
   "source": [
    "- nao é aconselhado fazer a criação do `path('', index)` dentro da url principal\n",
    "- Criaremos um arquivo de `urls.py` para cada app (galeria)\n"
   ]
  },
  {
   "cell_type": "markdown",
   "metadata": {},
   "source": [
    "- no arquivo `urls.py` criado vc faz a importação do path<br>\n",
    "`from django.urls import path`<br>\n",
    "- para fazer o acesso ao `index` devemos tbm importa no arquivo<br>\n",
    "`from galeria.views import index`<br>"
   ]
  },
  {
   "cell_type": "markdown",
   "metadata": {},
   "source": [
    "- cria um `urlpatterns` - lista para armazenar todas as urls<br>\n",
    "    `urlpatterns = [`<br>\n",
    "    &nbsp;&nbsp;&nbsp;&nbsp;`patth(' ', index)`<br>\n",
    "    `]`<br>\n"
   ]
  },
  {
   "cell_type": "markdown",
   "metadata": {},
   "source": [
    "* tira o import do urls do setup<br>\n",
    "* `from galeria.views import index`<br> e adiciona o `include` depois do `path` <br>\n",
    " - dentro do `urlpatterns` do `setup`<br>\n",
    "`path('', include('galeria.urls')),`"
   ]
  },
  {
   "cell_type": "markdown",
   "metadata": {},
   "source": [
    "### ======================================================================================"
   ]
  },
  {
   "cell_type": "markdown",
   "metadata": {},
   "source": [
    "- Dentro da pasta principal cria uma pasta com o nome `templates`<br>\n",
    "- no arquivo `setiings.py` entro do parametro `TEMPLATES` no `DIRS` vai passar o parametro:<br>\n",
    "    * `os.path.join(BASE_DIR, 'templates')`"
   ]
  },
  {
   "cell_type": "markdown",
   "metadata": {},
   "source": [
    "- dentro do arquivo `views` vc remove as partes do `Httpresponse` tanto da importação quanto no return"
   ]
  },
  {
   "cell_type": "markdown",
   "metadata": {},
   "source": [
    "* `return render(request, 'index.html')` - no def do index  <br>\n",
    "- depois que cria uma pasta em `templates` com o nome `galeria` coloca o `index.html` dentro o `return` muda ficando assim: <br>\n",
    "- `return render(request, 'galeria/index.html')` <br>"
   ]
  },
  {
   "cell_type": "markdown",
   "metadata": {},
   "source": [
    "#### STATICFILES_DIRS\n",
    "\n",
    "- dentro do `settings.py` tem um parametro `STATIC_URL` abaixo dele digita o comando?\n",
    "* `STATICFILES_DIRS = [`<br>\n",
    "&nbsp;&nbsp;&nbsp;&nbsp;`os.path.join(BASE_DIR, 'setup/static')`  - na (pasta de configuração) / static - <br>\n",
    "`]`<br>\n",
    "\n",
    "*  `STATIC_ROOT = os.path.join(BASE_DIR, static')` <br>\n",
    "\n",
    "* cria uma pasta dentro da pasta de configuração (setup)"
   ]
  },
  {
   "cell_type": "markdown",
   "metadata": {},
   "source": [
    "### collectstatic\n",
    "\n",
    "- no terminal digita \n",
    "`python manage.py collectstatic` - \n"
   ]
  }
 ],
 "metadata": {
  "language_info": {
   "name": "python"
  }
 },
 "nbformat": 4,
 "nbformat_minor": 2
}
