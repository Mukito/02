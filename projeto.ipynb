{
 "cells": [
  {
   "cell_type": "markdown",
   "metadata": {},
   "source": [
    "## Projeto em PYTHON para treinamento de Django\n",
    "- se for o caso fazer a instalação do PYTHON\n",
    "    * `pip install python`\n",
    "- no terminal faz a instalação da maquina virtual venv\n",
    "    * `python.ex -m venv (nome da maquina)`\n",
    "- faz a instalação do DJANGO\n",
    "    * `pip install django`\n",
    "\n"
   ]
  },
  {
   "cell_type": "markdown",
   "metadata": {},
   "source": [
    "# Comando\n",
    "- `python3 --version` - para saber a versão do python usado\n",
    "- `virtualenv --version` - para saber a versão da maquina virtual usada\n",
    "- `Ctrl` + `Shift` + `P` - abre um terminal para buscas <br>\n",
    "- `python: selected interpreter` - vc ve onde esta seu python ou escolhe qual usar se tiver + de um instalado (Inportante usar o da `venv`)"
   ]
  },
  {
   "cell_type": "markdown",
   "metadata": {},
   "source": [
    "# Isolando toda as dependencias\n",
    "- para visualizar as dependencias iremos utilizar o comando <br>\n",
    "    *`pip freeze` - mostra as dependencias <br>\n",
    "    *`pip freeze > requirements.txt` - pega as dependencias e cria um arquivo `requirements.txt` ou qual quer outro nome da sua escolha"
   ]
  },
  {
   "cell_type": "markdown",
   "metadata": {},
   "source": [
    "### Mas um comando interesando no Django é\n",
    "- `django-admin help` - onde mostra todos os comandos do Django <br>\n"
   ]
  },
  {
   "cell_type": "markdown",
   "metadata": {},
   "source": [
    "# Cria a pasta de configuração \n",
    "- Para a criação da pasta de configuração do projeto <br>\n",
    "    *`django-admin startproject (nome da pasta) .` <br> \n",
    "    no caso fica + insteressando um nomo como `config`, `setup` ou `principal` - pois a pasta guarda os comandos de configuração o `.` para nao criar subpastas<br> \n",
    "    "
   ]
  },
  {
   "cell_type": "markdown",
   "metadata": {},
   "source": [
    "# Rodando o servidor \n",
    "\n",
    "`python manage.py runserver`"
   ]
  },
  {
   "cell_type": "markdown",
   "metadata": {},
   "source": [
    "# SECRET_KEY \n",
    "- Cria um arquivo com o nome `.env` - para jogar o `SECRET_KEY` que esta localizado no arquivo `settings.py` da pasta de configuração \n",
    "- no arquivo `setting.py` vc importa `os` <br>\n",
    "- no terminal da o comando `dotenv` e faz a importação `from dotenv import load_dotenv` no arquivo `settings.py`\n",
    "- no local onde tem o `SECRET_KEY` vc passa a variavel criado no `.env` criada com a `SECRET_KEY`\n",
    "    * `SECRET_KEY = str(os.getenv('SECRET_KEY'))`   "
   ]
  },
  {
   "cell_type": "markdown",
   "metadata": {},
   "source": [
    "### Gitiginore\n",
    "- no site `gitignore.io` passa as dependencias instalada no projeto \n",
    "    * esse site serve para criar todo comando para o arquivo `.gitignore` "
   ]
  },
  {
   "cell_type": "markdown",
   "metadata": {},
   "source": [
    "# GIT\n",
    "- para iniciar o git no terminal<br>\n",
    "    *`git init`<br>\n",
    "    *`git add .`<br>\n",
    "    *``\n"
   ]
  }
 ],
 "metadata": {
  "language_info": {
   "name": "python"
  }
 },
 "nbformat": 4,
 "nbformat_minor": 2
}
